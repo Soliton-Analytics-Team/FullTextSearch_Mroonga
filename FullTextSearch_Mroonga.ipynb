{
  "cells": [
    {
      "cell_type": "markdown",
      "metadata": {
        "id": "1K0_sJIHCjL6"
      },
      "source": [
        "# Colabで全文検索（その4：Mroonga編）\n",
        "\n",
        "各種全文検索ツールをColabで動かしてみるシリーズです。全7回の予定です。今回はMroongaです。MroongaはGroongaをMySQLで使えるようにした拡張機能です。MySQLのネイティブな全文検索に対してどれぐらい優位性があるのでしょうか。\n",
        "\n",
        "処理時間の計測はストレージのキャッシュとの兼ね合いがあるので、2回測ります。2回目は全てがメモリに載った状態での性能評価になります。ただ1回目もデータを投入した直後なので、メモリに載ってしまっている可能性があります。"
      ]
    },
    {
      "cell_type": "markdown",
      "metadata": {
        "id": "ontwwvVwWwmt"
      },
      "source": [
        "## 準備\n",
        "\n",
        "まずは検索対象のテキストを日本語wikiから取得して、Google Driveに保存します。（※ Google Driveに約１GBの空き容量が必要です。以前のデータが残っている場合は取得せず再利用します。）"
      ]
    },
    {
      "cell_type": "markdown",
      "metadata": {},
      "source": [
        "Google Driveのマウント"
      ]
    },
    {
      "cell_type": "code",
      "execution_count": 1,
      "metadata": {
        "colab": {
          "base_uri": "https://localhost:8080/"
        },
        "id": "DnAnIrJk162c",
        "outputId": "0442fb3a-4e2b-4f43-8ace-cf1579684d45"
      },
      "outputs": [
        {
          "name": "stdout",
          "output_type": "stream",
          "text": [
            "Mounted at /content/drive\n"
          ]
        }
      ],
      "source": [
        "from google.colab import drive\n",
        "drive.mount('/content/drive')"
      ]
    },
    {
      "cell_type": "markdown",
      "metadata": {},
      "source": [
        "jawikiの取得とjson形式に変換。90分ほど時間がかかります。他の全文検索シリーズでも同じデータを使うので、他の記事も試す場合は wiki.json.bz2 を捨てずに残しておくことをおすすめします。"
      ]
    },
    {
      "cell_type": "code",
      "execution_count": 2,
      "metadata": {
        "colab": {
          "base_uri": "https://localhost:8080/"
        },
        "id": "5AbKu4okMHam",
        "outputId": "496a642f-5b46-49c8-86ae-f6372123870d"
      },
      "outputs": [
        {
          "name": "stdout",
          "output_type": "stream",
          "text": [
            "/content\n",
            "CPU times: user 1.06 ms, sys: 964 µs, total: 2.02 ms\n",
            "Wall time: 8.16 ms\n"
          ]
        }
      ],
      "source": [
        "%%time\n",
        "%cd /content/\n",
        "import os\n",
        "if not os.path.exists('/content/drive/MyDrive/wiki.json.bz2'):\n",
        "    !wget https://dumps.wikimedia.org/jawiki/latest/jawiki-latest-pages-articles.xml.bz2\n",
        "    !pip install wikiextractor\n",
        "    !python -m wikiextractor.WikiExtractor --no-templates --processes 4 --json -b 10G -o - jawiki-latest-pages-articles.xml.bz2 | bzip2 -c > /content/drive/MyDrive/wiki.json.bz2"
      ]
    },
    {
      "cell_type": "markdown",
      "metadata": {},
      "source": [
        "json形式に変換されたデータを確認"
      ]
    },
    {
      "cell_type": "code",
      "execution_count": 3,
      "metadata": {
        "colab": {
          "base_uri": "https://localhost:8080/"
        },
        "id": "B9xEcGcQrimv",
        "outputId": "3977b357-ee6f-494b-c958-d2070db808f7"
      },
      "outputs": [
        {
          "name": "stdout",
          "output_type": "stream",
          "text": [
            "アンパサンド\tアンパサンド（&amp;, ）は、並立助詞「…と…」を意味する記号である。ラテン\n",
            "言語\t言語（げんご）は、広辞苑や大辞泉には次のように解説されている。『日本大百科事典』\n",
            "日本語\t 日本語（にほんご、にっぽんご）は、日本国内や、かつての日本領だった国、そして日\n",
            "地理学\t地理学（ちりがく、、、伊：geografia、）は、。地域や空間、場所、自然環境\n",
            "EU (曖昧さ回避)\tEU\n",
            "国の一覧\t国の一覧（くにのいちらん）は、世界の独立国の一覧。対象.国際法上国家と言えるか否\n"
          ]
        }
      ],
      "source": [
        "import json\n",
        "import bz2\n",
        "\n",
        "with bz2.open('/content/drive/MyDrive/wiki.json.bz2', 'rt', encoding='utf-8') as fin:\n",
        "    for n, line in enumerate(fin):\n",
        "        data = json.loads(line)\n",
        "        print(data['title'].strip(), data['text'].replace('\\n', '')[:40], sep='\\t')\n",
        "        if n == 5:\n",
        "            break"
      ]
    },
    {
      "cell_type": "markdown",
      "metadata": {
        "id": "ABWHPawqAWnp"
      },
      "source": [
        "## Mroongaのインストール"
      ]
    },
    {
      "cell_type": "code",
      "execution_count": 4,
      "metadata": {
        "colab": {
          "base_uri": "https://localhost:8080/"
        },
        "id": "XnZG47Y9RFzb",
        "outputId": "675bdba4-8e54-407a-fb88-0cc7ebcb328e"
      },
      "outputs": [
        {
          "name": "stdout",
          "output_type": "stream",
          "text": [
            "Reading package lists... Done\n",
            "Building dependency tree       \n",
            "Reading state information... Done\n",
            "lsb-release is already the newest version (9.20170808ubuntu1).\n",
            "lsb-release set to manually installed.\n",
            "software-properties-common is already the newest version (0.96.24.32.18).\n",
            "0 upgraded, 0 newly installed, 0 to remove and 39 not upgraded.\n",
            "'universe' distribution component is already enabled for all sources.\n",
            "Get:1 http://security.ubuntu.com/ubuntu bionic-security InRelease [88.7 kB]\n",
            "Get:2 https://cloud.r-project.org/bin/linux/ubuntu bionic-cran40/ InRelease [3,626 B]\n",
            "Ign:3 https://developer.download.nvidia.com/compute/cuda/repos/ubuntu1804/x86_64  InRelease\n",
            "Hit:4 http://ppa.launchpad.net/c2d4u.team/c2d4u4.0+/ubuntu bionic InRelease\n",
            "Hit:5 http://archive.ubuntu.com/ubuntu bionic InRelease\n",
            "Ign:6 https://developer.download.nvidia.com/compute/machine-learning/repos/ubuntu1804/x86_64  InRelease\n",
            "Hit:7 https://developer.download.nvidia.com/compute/cuda/repos/ubuntu1804/x86_64  Release\n",
            "Hit:8 https://developer.download.nvidia.com/compute/machine-learning/repos/ubuntu1804/x86_64  Release\n",
            "Get:9 http://archive.ubuntu.com/ubuntu bionic-updates InRelease [88.7 kB]\n",
            "Hit:10 http://ppa.launchpad.net/cran/libgit2/ubuntu bionic InRelease\n",
            "Get:11 http://security.ubuntu.com/ubuntu bionic-security/main amd64 Packages [2,628 kB]\n",
            "Get:12 http://security.ubuntu.com/ubuntu bionic-security/universe amd64 Packages [1,478 kB]\n",
            "Get:13 http://ppa.launchpad.net/deadsnakes/ppa/ubuntu bionic InRelease [15.9 kB]\n",
            "Get:14 http://security.ubuntu.com/ubuntu bionic-security/restricted amd64 Packages [829 kB]\n",
            "Get:15 http://archive.ubuntu.com/ubuntu bionic-backports InRelease [74.6 kB]\n",
            "Hit:16 http://ppa.launchpad.net/graphics-drivers/ppa/ubuntu bionic InRelease\n",
            "Get:19 http://archive.ubuntu.com/ubuntu bionic-updates/universe amd64 Packages [2,256 kB]\n",
            "Get:20 http://ppa.launchpad.net/deadsnakes/ppa/ubuntu bionic/main amd64 Packages [45.3 kB]\n",
            "Get:21 http://archive.ubuntu.com/ubuntu bionic-updates/main amd64 Packages [3,067 kB]\n",
            "Get:22 http://archive.ubuntu.com/ubuntu bionic-updates/restricted amd64 Packages [863 kB]\n",
            "Fetched 11.4 MB in 2s (5,128 kB/s)\n",
            "Reading package lists... Done\n",
            "W: Target Packages (main/binary-amd64/Packages) is configured multiple times in /etc/apt/sources.list:44 and /etc/apt/sources.list:51\n",
            "W: Target Packages (main/binary-all/Packages) is configured multiple times in /etc/apt/sources.list:44 and /etc/apt/sources.list:51\n",
            "W: Target Packages (restricted/binary-amd64/Packages) is configured multiple times in /etc/apt/sources.list:44 and /etc/apt/sources.list:51\n",
            "W: Target Packages (restricted/binary-all/Packages) is configured multiple times in /etc/apt/sources.list:44 and /etc/apt/sources.list:51\n",
            "W: Target Packages (main/binary-amd64/Packages) is configured multiple times in /etc/apt/sources.list:44 and /etc/apt/sources.list:51\n",
            "W: Target Packages (main/binary-all/Packages) is configured multiple times in /etc/apt/sources.list:44 and /etc/apt/sources.list:51\n",
            "W: Target Packages (restricted/binary-amd64/Packages) is configured multiple times in /etc/apt/sources.list:44 and /etc/apt/sources.list:51\n",
            "W: Target Packages (restricted/binary-all/Packages) is configured multiple times in /etc/apt/sources.list:44 and /etc/apt/sources.list:51\n",
            "Hit:1 https://cloud.r-project.org/bin/linux/ubuntu bionic-cran40/ InRelease\n",
            "Hit:2 http://security.ubuntu.com/ubuntu bionic-security InRelease\n",
            "Ign:3 https://developer.download.nvidia.com/compute/cuda/repos/ubuntu1804/x86_64  InRelease\n",
            "Hit:4 http://archive.ubuntu.com/ubuntu bionic InRelease\n",
            "Hit:5 http://ppa.launchpad.net/c2d4u.team/c2d4u4.0+/ubuntu bionic InRelease\n",
            "Ign:6 https://developer.download.nvidia.com/compute/machine-learning/repos/ubuntu1804/x86_64  InRelease\n",
            "Hit:7 https://developer.download.nvidia.com/compute/cuda/repos/ubuntu1804/x86_64  Release\n",
            "Hit:8 http://archive.ubuntu.com/ubuntu bionic-updates InRelease\n",
            "Hit:9 https://developer.download.nvidia.com/compute/machine-learning/repos/ubuntu1804/x86_64  Release\n",
            "Hit:10 http://archive.ubuntu.com/ubuntu bionic-backports InRelease\n",
            "Hit:11 http://ppa.launchpad.net/cran/libgit2/ubuntu bionic InRelease\n",
            "Hit:12 http://ppa.launchpad.net/deadsnakes/ppa/ubuntu bionic InRelease\n",
            "Hit:14 http://ppa.launchpad.net/graphics-drivers/ppa/ubuntu bionic InRelease\n",
            "Get:16 http://ppa.launchpad.net/groonga/ppa/ubuntu bionic InRelease [21.3 kB]\n",
            "Get:17 http://ppa.launchpad.net/groonga/ppa/ubuntu bionic/main amd64 Packages [5,780 B]\n",
            "Fetched 27.1 kB in 1s (19.3 kB/s)\n",
            "Reading package lists... Done\n",
            "W: Target Packages (main/binary-amd64/Packages) is configured multiple times in /etc/apt/sources.list:44 and /etc/apt/sources.list:51\n",
            "W: Target Packages (main/binary-all/Packages) is configured multiple times in /etc/apt/sources.list:44 and /etc/apt/sources.list:51\n",
            "W: Target Packages (restricted/binary-amd64/Packages) is configured multiple times in /etc/apt/sources.list:44 and /etc/apt/sources.list:51\n",
            "W: Target Packages (restricted/binary-all/Packages) is configured multiple times in /etc/apt/sources.list:44 and /etc/apt/sources.list:51\n",
            "W: Target Packages (main/binary-amd64/Packages) is configured multiple times in /etc/apt/sources.list:44 and /etc/apt/sources.list:51\n",
            "W: Target Packages (main/binary-all/Packages) is configured multiple times in /etc/apt/sources.list:44 and /etc/apt/sources.list:51\n",
            "W: Target Packages (restricted/binary-amd64/Packages) is configured multiple times in /etc/apt/sources.list:44 and /etc/apt/sources.list:51\n",
            "W: Target Packages (restricted/binary-all/Packages) is configured multiple times in /etc/apt/sources.list:44 and /etc/apt/sources.list:51\n",
            "Hit:1 http://security.ubuntu.com/ubuntu bionic-security InRelease\n",
            "Hit:2 https://cloud.r-project.org/bin/linux/ubuntu bionic-cran40/ InRelease\n",
            "Ign:3 https://developer.download.nvidia.com/compute/cuda/repos/ubuntu1804/x86_64  InRelease\n",
            "Hit:4 http://archive.ubuntu.com/ubuntu bionic InRelease\n",
            "Hit:5 http://ppa.launchpad.net/c2d4u.team/c2d4u4.0+/ubuntu bionic InRelease\n",
            "Ign:6 https://developer.download.nvidia.com/compute/machine-learning/repos/ubuntu1804/x86_64  InRelease\n",
            "Hit:7 https://developer.download.nvidia.com/compute/cuda/repos/ubuntu1804/x86_64  Release\n",
            "Hit:8 https://developer.download.nvidia.com/compute/machine-learning/repos/ubuntu1804/x86_64  Release\n",
            "Hit:9 http://archive.ubuntu.com/ubuntu bionic-updates InRelease\n",
            "Hit:10 http://archive.ubuntu.com/ubuntu bionic-backports InRelease\n",
            "Hit:11 http://ppa.launchpad.net/cran/libgit2/ubuntu bionic InRelease\n",
            "Hit:12 http://ppa.launchpad.net/deadsnakes/ppa/ubuntu bionic InRelease\n",
            "Hit:14 http://ppa.launchpad.net/graphics-drivers/ppa/ubuntu bionic InRelease\n",
            "Hit:16 http://ppa.launchpad.net/groonga/ppa/ubuntu bionic InRelease\n",
            "Reading package lists... Done\n",
            "W: Target Packages (main/binary-amd64/Packages) is configured multiple times in /etc/apt/sources.list:44 and /etc/apt/sources.list:51\n",
            "W: Target Packages (main/binary-all/Packages) is configured multiple times in /etc/apt/sources.list:44 and /etc/apt/sources.list:51\n",
            "W: Target Packages (restricted/binary-amd64/Packages) is configured multiple times in /etc/apt/sources.list:44 and /etc/apt/sources.list:51\n",
            "W: Target Packages (restricted/binary-all/Packages) is configured multiple times in /etc/apt/sources.list:44 and /etc/apt/sources.list:51\n",
            "W: Target Packages (main/binary-amd64/Packages) is configured multiple times in /etc/apt/sources.list:44 and /etc/apt/sources.list:51\n",
            "W: Target Packages (main/binary-all/Packages) is configured multiple times in /etc/apt/sources.list:44 and /etc/apt/sources.list:51\n",
            "W: Target Packages (restricted/binary-amd64/Packages) is configured multiple times in /etc/apt/sources.list:44 and /etc/apt/sources.list:51\n",
            "W: Target Packages (restricted/binary-all/Packages) is configured multiple times in /etc/apt/sources.list:44 and /etc/apt/sources.list:51\n",
            "Reading package lists... Done\n",
            "Building dependency tree       \n",
            "Reading state information... Done\n",
            "The following additional packages will be installed:\n",
            "   groonga-normalizer-mysql (1.1.8-1.ubuntu18.04.1)\n",
            "   libcgi-fast-perl (1:2.13-1)\n",
            "   libcgi-pm-perl (4.38-1)\n",
            "   libencode-locale-perl (1.05-1)\n",
            "   libevent-core-2.1-6 (2.1.8-stable-4build1)\n",
            "   libfcgi-perl (0.78-2build1)\n",
            "   libgroonga0 (12.0.1-1.ubuntu18.04.1)\n",
            "   libhtml-parser-perl (3.72-3build1)\n",
            "   libhtml-tagset-perl (3.20-3)\n",
            "   libhtml-template-perl (2.97-1)\n",
            "   libhttp-date-perl (6.02-1)\n",
            "   libhttp-message-perl (6.14-1)\n",
            "   libio-html-perl (1.001-1)\n",
            "   liblwp-mediatypes-perl (6.02-1)\n",
            "   libmsgpackc2 (2.1.5-1)\n",
            "   libtimedate-perl (2.3000-2)\n",
            "   liburi-perl (1.73-1)\n",
            "   mysql-5.7-mroonga (12.00-1.ubuntu18.04.1)\n",
            "   mysql-client-5.7 (5.7.37-0ubuntu0.18.04.1)\n",
            "   mysql-client-core-5.7 (5.7.37-0ubuntu0.18.04.1)\n",
            "   mysql-mroonga (12.00-1.ubuntu18.04.1)\n",
            "   mysql-server (5.7.37-0ubuntu0.18.04.1)\n",
            "   mysql-server-5.7 (5.7.37-0ubuntu0.18.04.1)\n",
            "   mysql-server-5.7-mroonga (12.00-1.ubuntu18.04.1)\n",
            "   mysql-server-core-5.7 (5.7.37-0ubuntu0.18.04.1)\n",
            "Suggested packages:\n",
            "   libdata-dump-perl (1.23-1)\n",
            "   libipc-sharedcache-perl (1.3-8)\n",
            "   libwww-perl (6.31-1ubuntu0.1)\n",
            "   mailx\n",
            "   tinyca (0.7.5-6)\n",
            "The following NEW packages will be installed:\n",
            "   groonga-normalizer-mysql (1.1.8-1.ubuntu18.04.1)\n",
            "   libcgi-fast-perl (1:2.13-1)\n",
            "   libcgi-pm-perl (4.38-1)\n",
            "   libencode-locale-perl (1.05-1)\n",
            "   libevent-core-2.1-6 (2.1.8-stable-4build1)\n",
            "   libfcgi-perl (0.78-2build1)\n",
            "   libgroonga0 (12.0.1-1.ubuntu18.04.1)\n",
            "   libhtml-parser-perl (3.72-3build1)\n",
            "   libhtml-tagset-perl (3.20-3)\n",
            "   libhtml-template-perl (2.97-1)\n",
            "   libhttp-date-perl (6.02-1)\n",
            "   libhttp-message-perl (6.14-1)\n",
            "   libio-html-perl (1.001-1)\n",
            "   liblwp-mediatypes-perl (6.02-1)\n",
            "   libmsgpackc2 (2.1.5-1)\n",
            "   libtimedate-perl (2.3000-2)\n",
            "   liburi-perl (1.73-1)\n",
            "   mysql-5.7-mroonga (12.00-1.ubuntu18.04.1)\n",
            "   mysql-client-5.7 (5.7.37-0ubuntu0.18.04.1)\n",
            "   mysql-client-core-5.7 (5.7.37-0ubuntu0.18.04.1)\n",
            "   mysql-mroonga (12.00-1.ubuntu18.04.1)\n",
            "   mysql-server (5.7.37-0ubuntu0.18.04.1)\n",
            "   mysql-server-5.7 (5.7.37-0ubuntu0.18.04.1)\n",
            "   mysql-server-5.7-mroonga (12.00-1.ubuntu18.04.1)\n",
            "   mysql-server-core-5.7 (5.7.37-0ubuntu0.18.04.1)\n",
            "   mysql-server-mroonga (12.00-1.ubuntu18.04.1)\n",
            "0 upgraded, 26 newly installed, 0 to remove and 40 not upgraded.\n",
            "Need to get 21.7 MB of archives.\n",
            "After this operation, 174 MB of additional disk space will be used.\n",
            "Get:1 http://ppa.launchpad.net/groonga/ppa/ubuntu bionic/main amd64 libgroonga0 amd64 12.0.1-1.ubuntu18.04.1 [1,822 kB]\n",
            "Get:2 http://archive.ubuntu.com/ubuntu bionic-updates/main amd64 mysql-client-core-5.7 amd64 5.7.37-0ubuntu0.18.04.1 [6,635 kB]\n",
            "Get:3 http://ppa.launchpad.net/groonga/ppa/ubuntu bionic/main amd64 groonga-normalizer-mysql amd64 1.1.8-1.ubuntu18.04.1 [58.2 kB]\n",
            "Get:4 http://archive.ubuntu.com/ubuntu bionic-updates/main amd64 mysql-client-5.7 amd64 5.7.37-0ubuntu0.18.04.1 [1,943 kB]\n",
            "Get:5 http://archive.ubuntu.com/ubuntu bionic-updates/main amd64 mysql-server-core-5.7 amd64 5.7.37-0ubuntu0.18.04.1 [7,425 kB]\n",
            "Get:6 http://archive.ubuntu.com/ubuntu bionic/main amd64 libevent-core-2.1-6 amd64 2.1.8-stable-4build1 [85.9 kB]\n",
            "Get:7 http://archive.ubuntu.com/ubuntu bionic-updates/main amd64 mysql-server-5.7 amd64 5.7.37-0ubuntu0.18.04.1 [2,903 kB]\n",
            "Get:8 http://ppa.launchpad.net/groonga/ppa/ubuntu bionic/main amd64 mysql-5.7-mroonga amd64 12.00-1.ubuntu18.04.1 [146 kB]\n",
            "Get:9 http://archive.ubuntu.com/ubuntu bionic/universe amd64 libmsgpackc2 amd64 2.1.5-1 [14.3 kB]\n",
            "Get:10 http://archive.ubuntu.com/ubuntu bionic/main amd64 libhtml-tagset-perl all 3.20-3 [12.1 kB]\n",
            "Get:11 http://archive.ubuntu.com/ubuntu bionic/main amd64 liburi-perl all 1.73-1 [77.2 kB]\n",
            "Get:12 http://archive.ubuntu.com/ubuntu bionic/main amd64 libhtml-parser-perl amd64 3.72-3build1 [85.9 kB]\n",
            "Get:13 http://archive.ubuntu.com/ubuntu bionic/main amd64 libcgi-pm-perl all 4.38-1 [185 kB]\n",
            "Get:14 http://archive.ubuntu.com/ubuntu bionic/main amd64 libfcgi-perl amd64 0.78-2build1 [32.8 kB]\n",
            "Get:15 http://archive.ubuntu.com/ubuntu bionic/main amd64 libcgi-fast-perl all 1:2.13-1 [9,940 B]\n",
            "Get:16 http://archive.ubuntu.com/ubuntu bionic/main amd64 libencode-locale-perl all 1.05-1 [12.3 kB]\n",
            "Get:17 http://archive.ubuntu.com/ubuntu bionic/main amd64 libhtml-template-perl all 2.97-1 [59.0 kB]\n",
            "Get:18 http://archive.ubuntu.com/ubuntu bionic/main amd64 libtimedate-perl all 2.3000-2 [37.5 kB]\n",
            "Get:19 http://archive.ubuntu.com/ubuntu bionic/main amd64 libhttp-date-perl all 6.02-1 [10.4 kB]\n",
            "Get:20 http://archive.ubuntu.com/ubuntu bionic/main amd64 libio-html-perl all 1.001-1 [14.9 kB]\n",
            "Get:21 http://archive.ubuntu.com/ubuntu bionic/main amd64 liblwp-mediatypes-perl all 6.02-1 [21.7 kB]\n",
            "Get:22 http://archive.ubuntu.com/ubuntu bionic/main amd64 libhttp-message-perl all 6.14-1 [72.1 kB]\n",
            "Get:23 http://archive.ubuntu.com/ubuntu bionic-updates/main amd64 mysql-server all 5.7.37-0ubuntu0.18.04.1 [9,944 B]\n",
            "Get:24 http://ppa.launchpad.net/groonga/ppa/ubuntu bionic/main amd64 mysql-server-5.7-mroonga amd64 12.00-1.ubuntu18.04.1 [3,740 B]\n",
            "Get:25 http://ppa.launchpad.net/groonga/ppa/ubuntu bionic/main amd64 mysql-mroonga amd64 12.00-1.ubuntu18.04.1 [3,848 B]\n",
            "Get:26 http://ppa.launchpad.net/groonga/ppa/ubuntu bionic/main amd64 mysql-server-mroonga amd64 12.00-1.ubuntu18.04.1 [3,760 B]\n",
            "Fetched 21.7 MB in 2s (11.1 MB/s)\n",
            "debconf: unable to initialize frontend: Dialog\n",
            "debconf: (No usable dialog-like program is installed, so the dialog based frontend cannot be used. at /usr/share/perl5/Debconf/FrontEnd/Dialog.pm line 76, <> line 26.)\n",
            "debconf: falling back to frontend: Readline\n",
            "debconf: unable to initialize frontend: Readline\n",
            "debconf: (This frontend requires a controlling tty.)\n",
            "debconf: falling back to frontend: Teletype\n",
            "dpkg-preconfigure: unable to re-open stdin: \n",
            "Selecting previously unselected package mysql-client-core-5.7.\n",
            "(Reading database ... 155332 files and directories currently installed.)\n",
            "Preparing to unpack .../00-mysql-client-core-5.7_5.7.37-0ubuntu0.18.04.1_amd64.deb ...\n",
            "Unpacking mysql-client-core-5.7 (5.7.37-0ubuntu0.18.04.1) ...\n",
            "Selecting previously unselected package mysql-client-5.7.\n",
            "Preparing to unpack .../01-mysql-client-5.7_5.7.37-0ubuntu0.18.04.1_amd64.deb ...\n",
            "Unpacking mysql-client-5.7 (5.7.37-0ubuntu0.18.04.1) ...\n",
            "Selecting previously unselected package mysql-server-core-5.7.\n",
            "Preparing to unpack .../02-mysql-server-core-5.7_5.7.37-0ubuntu0.18.04.1_amd64.deb ...\n",
            "Unpacking mysql-server-core-5.7 (5.7.37-0ubuntu0.18.04.1) ...\n",
            "Selecting previously unselected package libevent-core-2.1-6:amd64.\n",
            "Preparing to unpack .../03-libevent-core-2.1-6_2.1.8-stable-4build1_amd64.deb ...\n",
            "Unpacking libevent-core-2.1-6:amd64 (2.1.8-stable-4build1) ...\n",
            "Selecting previously unselected package mysql-server-5.7.\n",
            "Preparing to unpack .../04-mysql-server-5.7_5.7.37-0ubuntu0.18.04.1_amd64.deb ...\n",
            "debconf: unable to initialize frontend: Dialog\n",
            "debconf: (No usable dialog-like program is installed, so the dialog based frontend cannot be used. at /usr/share/perl5/Debconf/FrontEnd/Dialog.pm line 76.)\n",
            "debconf: falling back to frontend: Readline\n",
            "Unpacking mysql-server-5.7 (5.7.37-0ubuntu0.18.04.1) ...\n",
            "Selecting previously unselected package libmsgpackc2:amd64.\n",
            "Preparing to unpack .../05-libmsgpackc2_2.1.5-1_amd64.deb ...\n",
            "Unpacking libmsgpackc2:amd64 (2.1.5-1) ...\n",
            "Selecting previously unselected package libgroonga0:amd64.\n",
            "Preparing to unpack .../06-libgroonga0_12.0.1-1.ubuntu18.04.1_amd64.deb ...\n",
            "Unpacking libgroonga0:amd64 (12.0.1-1.ubuntu18.04.1) ...\n",
            "Selecting previously unselected package groonga-normalizer-mysql.\n",
            "Preparing to unpack .../07-groonga-normalizer-mysql_1.1.8-1.ubuntu18.04.1_amd64.deb ...\n",
            "Unpacking groonga-normalizer-mysql (1.1.8-1.ubuntu18.04.1) ...\n",
            "Selecting previously unselected package libhtml-tagset-perl.\n",
            "Preparing to unpack .../08-libhtml-tagset-perl_3.20-3_all.deb ...\n",
            "Unpacking libhtml-tagset-perl (3.20-3) ...\n",
            "Selecting previously unselected package liburi-perl.\n",
            "Preparing to unpack .../09-liburi-perl_1.73-1_all.deb ...\n",
            "Unpacking liburi-perl (1.73-1) ...\n",
            "Selecting previously unselected package libhtml-parser-perl.\n",
            "Preparing to unpack .../10-libhtml-parser-perl_3.72-3build1_amd64.deb ...\n",
            "Unpacking libhtml-parser-perl (3.72-3build1) ...\n",
            "Selecting previously unselected package libcgi-pm-perl.\n",
            "Preparing to unpack .../11-libcgi-pm-perl_4.38-1_all.deb ...\n",
            "Unpacking libcgi-pm-perl (4.38-1) ...\n",
            "Selecting previously unselected package libfcgi-perl.\n",
            "Preparing to unpack .../12-libfcgi-perl_0.78-2build1_amd64.deb ...\n",
            "Unpacking libfcgi-perl (0.78-2build1) ...\n",
            "Selecting previously unselected package libcgi-fast-perl.\n",
            "Preparing to unpack .../13-libcgi-fast-perl_1%3a2.13-1_all.deb ...\n",
            "Unpacking libcgi-fast-perl (1:2.13-1) ...\n",
            "Selecting previously unselected package libencode-locale-perl.\n",
            "Preparing to unpack .../14-libencode-locale-perl_1.05-1_all.deb ...\n",
            "Unpacking libencode-locale-perl (1.05-1) ...\n",
            "Selecting previously unselected package libhtml-template-perl.\n",
            "Preparing to unpack .../15-libhtml-template-perl_2.97-1_all.deb ...\n",
            "Unpacking libhtml-template-perl (2.97-1) ...\n",
            "Selecting previously unselected package libtimedate-perl.\n",
            "Preparing to unpack .../16-libtimedate-perl_2.3000-2_all.deb ...\n",
            "Unpacking libtimedate-perl (2.3000-2) ...\n",
            "Selecting previously unselected package libhttp-date-perl.\n",
            "Preparing to unpack .../17-libhttp-date-perl_6.02-1_all.deb ...\n",
            "Unpacking libhttp-date-perl (6.02-1) ...\n",
            "Selecting previously unselected package libio-html-perl.\n",
            "Preparing to unpack .../18-libio-html-perl_1.001-1_all.deb ...\n",
            "Unpacking libio-html-perl (1.001-1) ...\n",
            "Selecting previously unselected package liblwp-mediatypes-perl.\n",
            "Preparing to unpack .../19-liblwp-mediatypes-perl_6.02-1_all.deb ...\n",
            "Unpacking liblwp-mediatypes-perl (6.02-1) ...\n",
            "Selecting previously unselected package libhttp-message-perl.\n",
            "Preparing to unpack .../20-libhttp-message-perl_6.14-1_all.deb ...\n",
            "Unpacking libhttp-message-perl (6.14-1) ...\n",
            "Selecting previously unselected package mysql-5.7-mroonga.\n",
            "Preparing to unpack .../21-mysql-5.7-mroonga_12.00-1.ubuntu18.04.1_amd64.deb ...\n",
            "Unpacking mysql-5.7-mroonga (12.00-1.ubuntu18.04.1) ...\n",
            "Selecting previously unselected package mysql-server-5.7-mroonga.\n",
            "Preparing to unpack .../22-mysql-server-5.7-mroonga_12.00-1.ubuntu18.04.1_amd64.deb ...\n",
            "Unpacking mysql-server-5.7-mroonga (12.00-1.ubuntu18.04.1) ...\n",
            "Selecting previously unselected package mysql-server.\n",
            "Preparing to unpack .../23-mysql-server_5.7.37-0ubuntu0.18.04.1_all.deb ...\n",
            "Unpacking mysql-server (5.7.37-0ubuntu0.18.04.1) ...\n",
            "Selecting previously unselected package mysql-mroonga.\n",
            "Preparing to unpack .../24-mysql-mroonga_12.00-1.ubuntu18.04.1_amd64.deb ...\n",
            "Unpacking mysql-mroonga (12.00-1.ubuntu18.04.1) ...\n",
            "Selecting previously unselected package mysql-server-mroonga.\n",
            "Preparing to unpack .../25-mysql-server-mroonga_12.00-1.ubuntu18.04.1_amd64.deb ...\n",
            "Unpacking mysql-server-mroonga (12.00-1.ubuntu18.04.1) ...\n",
            "Setting up libhtml-tagset-perl (3.20-3) ...\n",
            "Setting up libevent-core-2.1-6:amd64 (2.1.8-stable-4build1) ...\n",
            "Setting up libencode-locale-perl (1.05-1) ...\n",
            "Setting up mysql-server-core-5.7 (5.7.37-0ubuntu0.18.04.1) ...\n",
            "Setting up libtimedate-perl (2.3000-2) ...\n",
            "Setting up libio-html-perl (1.001-1) ...\n",
            "Setting up liblwp-mediatypes-perl (6.02-1) ...\n",
            "Setting up liburi-perl (1.73-1) ...\n",
            "Setting up libhtml-parser-perl (3.72-3build1) ...\n",
            "Setting up libcgi-pm-perl (4.38-1) ...\n",
            "Setting up mysql-client-core-5.7 (5.7.37-0ubuntu0.18.04.1) ...\n",
            "Setting up libfcgi-perl (0.78-2build1) ...\n",
            "Setting up libmsgpackc2:amd64 (2.1.5-1) ...\n",
            "Setting up libgroonga0:amd64 (12.0.1-1.ubuntu18.04.1) ...\n",
            "Setting up libhttp-date-perl (6.02-1) ...\n",
            "Setting up libhtml-template-perl (2.97-1) ...\n",
            "Setting up libcgi-fast-perl (1:2.13-1) ...\n",
            "Setting up libhttp-message-perl (6.14-1) ...\n",
            "Setting up groonga-normalizer-mysql (1.1.8-1.ubuntu18.04.1) ...\n",
            "Setting up mysql-client-5.7 (5.7.37-0ubuntu0.18.04.1) ...\n",
            "Setting up mysql-server-5.7 (5.7.37-0ubuntu0.18.04.1) ...\n",
            "debconf: unable to initialize frontend: Dialog\n",
            "debconf: (No usable dialog-like program is installed, so the dialog based frontend cannot be used. at /usr/share/perl5/Debconf/FrontEnd/Dialog.pm line 76.)\n",
            "debconf: falling back to frontend: Readline\n",
            "invoke-rc.d: could not determine current runlevel\n",
            "invoke-rc.d: policy-rc.d denied execution of stop.\n",
            "update-alternatives: using /etc/mysql/mysql.cnf to provide /etc/mysql/my.cnf (my.cnf) in auto mode\n",
            "Renaming removed key_buffer and myisam-recover options (if present)\n",
            "Created symlink /etc/systemd/system/multi-user.target.wants/mysql.service → /lib/systemd/system/mysql.service.\n",
            "invoke-rc.d: could not determine current runlevel\n",
            "invoke-rc.d: policy-rc.d denied execution of start.\n",
            "Setting up mysql-server (5.7.37-0ubuntu0.18.04.1) ...\n",
            "Setting up mysql-5.7-mroonga (12.00-1.ubuntu18.04.1) ...\n",
            "debconf: unable to initialize frontend: Dialog\n",
            "debconf: (No usable dialog-like program is installed, so the dialog based frontend cannot be used. at /usr/share/perl5/Debconf/FrontEnd/Dialog.pm line 76.)\n",
            "debconf: falling back to frontend: Readline\n",
            "System has not been booted with systemd as init system (PID 1). Can't operate.\n",
            "System has not been booted with systemd as init system (PID 1). Can't operate.\n",
            "Run the following command line to register Mroonga:\n",
            "  mysql -u root < /usr/share/mroonga/install.sql\n",
            "Setting up mysql-server-5.7-mroonga (12.00-1.ubuntu18.04.1) ...\n",
            "Setting up mysql-mroonga (12.00-1.ubuntu18.04.1) ...\n",
            "Setting up mysql-server-mroonga (12.00-1.ubuntu18.04.1) ...\n",
            "Processing triggers for systemd (237-3ubuntu10.53) ...\n",
            "Processing triggers for man-db (2.8.3-2ubuntu0.1) ...\n",
            "Processing triggers for libc-bin (2.27-3ubuntu1.3) ...\n",
            "/sbin/ldconfig.real: /usr/local/lib/python3.7/dist-packages/ideep4py/lib/libmkldnn.so.0 is not a symbolic link\n",
            "\n",
            "W: Target Packages (main/binary-amd64/Packages) is configured multiple times in /etc/apt/sources.list:44 and /etc/apt/sources.list:51\n",
            "W: Target Packages (main/binary-all/Packages) is configured multiple times in /etc/apt/sources.list:44 and /etc/apt/sources.list:51\n",
            "W: Target Packages (restricted/binary-amd64/Packages) is configured multiple times in /etc/apt/sources.list:44 and /etc/apt/sources.list:51\n",
            "W: Target Packages (restricted/binary-all/Packages) is configured multiple times in /etc/apt/sources.list:44 and /etc/apt/sources.list:51\n"
          ]
        }
      ],
      "source": [
        "!sudo apt-get install -y -V software-properties-common lsb-release\n",
        "!sudo add-apt-repository -y universe\n",
        "!sudo add-apt-repository \"deb http://security.ubuntu.com/ubuntu $(lsb_release --short --codename)-security main restricted\"\n",
        "!sudo add-apt-repository -y ppa:groonga/ppa\n",
        "!sudo apt-get update\n",
        "!sudo apt-get install -y -V mysql-server-mroonga"
      ]
    },
    {
      "cell_type": "markdown",
      "metadata": {
        "id": "48-b2g272V_1"
      },
      "source": [
        "## MySQLの起動"
      ]
    },
    {
      "cell_type": "markdown",
      "metadata": {
        "id": "s69XUx_c2oXs"
      },
      "source": [
        "サーバーを起動します。"
      ]
    },
    {
      "cell_type": "code",
      "execution_count": 22,
      "metadata": {
        "colab": {
          "base_uri": "https://localhost:8080/"
        },
        "id": "Q-KU18gJUVgJ",
        "outputId": "89798da6-4f3c-43b3-9dd3-7dba57be05a6"
      },
      "outputs": [
        {
          "name": "stdout",
          "output_type": "stream",
          "text": [
            " * Starting MySQL database server mysqld\n",
            "No directory, logging in with HOME=/\n",
            "   ...done.\n"
          ]
        }
      ],
      "source": [
        "!service mysql start"
      ]
    },
    {
      "cell_type": "markdown",
      "metadata": {
        "id": "dZl3yWrk2rW0"
      },
      "source": [
        "Mroongaを導入します。"
      ]
    },
    {
      "cell_type": "code",
      "execution_count": 6,
      "metadata": {
        "id": "LguraKmgTfAT"
      },
      "outputs": [],
      "source": [
        "!mysql < /usr/share/mroonga/install.sql"
      ]
    },
    {
      "cell_type": "markdown",
      "metadata": {
        "id": "t8FysFH42xmw"
      },
      "source": [
        "Mroongaが導入されていることを確認します。"
      ]
    },
    {
      "cell_type": "code",
      "execution_count": 7,
      "metadata": {
        "colab": {
          "base_uri": "https://localhost:8080/"
        },
        "id": "QOd0yPA0Uhhy",
        "outputId": "5460edb5-48fe-4ce1-d2ad-139324da646e"
      },
      "outputs": [
        {
          "name": "stdout",
          "output_type": "stream",
          "text": [
            "Engine\tSupport\tComment\tTransactions\tXA\tSavepoints\n",
            "InnoDB\tDEFAULT\tSupports transactions, row-level locking, and foreign keys\tYES\tYES\tYES\n",
            "MRG_MYISAM\tYES\tCollection of identical MyISAM tables\tNO\tNO\tNO\n",
            "MEMORY\tYES\tHash based, stored in memory, useful for temporary tables\tNO\tNO\tNO\n",
            "BLACKHOLE\tYES\t/dev/null storage engine (anything you write to it disappears)\tNO\tNO\tNO\n",
            "MyISAM\tYES\tMyISAM storage engine\tNO\tNO\tNO\n",
            "CSV\tYES\tCSV storage engine\tNO\tNO\tNO\n",
            "Mroonga\tYES\tCJK-ready fulltext search, column store\tNO\tNO\tNO\n",
            "PERFORMANCE_SCHEMA\tYES\tPerformance Schema\tNO\tNO\tNO\n",
            "FEDERATED\tNO\tFederated MySQL storage engine\tNULL\tNULL\tNULL\n",
            "ARCHIVE\tYES\tArchive storage engine\tNO\tNO\tNO\n"
          ]
        }
      ],
      "source": [
        "!echo \"show engines;\" | mysql"
      ]
    },
    {
      "cell_type": "markdown",
      "metadata": {
        "id": "wfjUYEmC3Go6"
      },
      "source": [
        "DBを作成します。"
      ]
    },
    {
      "cell_type": "code",
      "execution_count": 8,
      "metadata": {
        "id": "4eVC_YRo846n"
      },
      "outputs": [],
      "source": [
        "!echo \"create database db\" | mysql"
      ]
    },
    {
      "cell_type": "markdown",
      "metadata": {
        "id": "a4iyUgU43J-7"
      },
      "source": [
        "## データのインポート"
      ]
    },
    {
      "cell_type": "markdown",
      "metadata": {
        "id": "ijPD69Cn3Tbh"
      },
      "source": [
        "pythonからMySQLを操作できるmysqlclientをインストールします。"
      ]
    },
    {
      "cell_type": "code",
      "execution_count": 9,
      "metadata": {
        "colab": {
          "base_uri": "https://localhost:8080/"
        },
        "id": "ZKgdlEM7853B",
        "outputId": "f47e177b-b259-44b5-e319-a9a0e1a15e6a"
      },
      "outputs": [
        {
          "name": "stdout",
          "output_type": "stream",
          "text": [
            "Collecting mysqlclient\n",
            "  Downloading mysqlclient-2.1.0.tar.gz (87 kB)\n",
            "\u001b[?25l\r\u001b[K     |███▊                            | 10 kB 23.2 MB/s eta 0:00:01\r\u001b[K     |███████▌                        | 20 kB 26.8 MB/s eta 0:00:01\r\u001b[K     |███████████▏                    | 30 kB 30.1 MB/s eta 0:00:01\r\u001b[K     |███████████████                 | 40 kB 32.4 MB/s eta 0:00:01\r\u001b[K     |██████████████████▊             | 51 kB 25.5 MB/s eta 0:00:01\r\u001b[K     |██████████████████████▍         | 61 kB 27.9 MB/s eta 0:00:01\r\u001b[K     |██████████████████████████▏     | 71 kB 26.2 MB/s eta 0:00:01\r\u001b[K     |██████████████████████████████  | 81 kB 27.7 MB/s eta 0:00:01\r\u001b[K     |████████████████████████████████| 87 kB 6.0 MB/s \n",
            "\u001b[?25hBuilding wheels for collected packages: mysqlclient\n",
            "  Building wheel for mysqlclient (setup.py) ... \u001b[?25l\u001b[?25hdone\n",
            "  Created wheel for mysqlclient: filename=mysqlclient-2.1.0-cp37-cp37m-linux_x86_64.whl size=99969 sha256=32eb347460dc8959efcca474f36e167fbdb8de730bc5818cf0c4e74e6ee4fec3\n",
            "  Stored in directory: /root/.cache/pip/wheels/97/d4/df/08cd6e1fa4a8691b268ab254bd0fa589827ab5b65638c010b4\n",
            "Successfully built mysqlclient\n",
            "Installing collected packages: mysqlclient\n",
            "Successfully installed mysqlclient-2.1.0\n"
          ]
        }
      ],
      "source": [
        "!pip install mysqlclient"
      ]
    },
    {
      "cell_type": "markdown",
      "metadata": {
        "id": "KNMSTxMU4NdE"
      },
      "source": [
        "データを解凍して50万件のデータをインポートします。全文検索用のインデックスを作りながら読み込むので、1時間以上かかります。"
      ]
    },
    {
      "cell_type": "code",
      "execution_count": 11,
      "metadata": {
        "colab": {
          "base_uri": "https://localhost:8080/",
          "height": 49,
          "referenced_widgets": [
            "8eeba7bc0c8b4b2aab1b24e2f9b76bfb",
            "6a5419a192194119ac17f4ec97fb3894",
            "6c5d1995675549e785136be925616365",
            "50982e292b004ce08d730d2f9043eaf3",
            "0f77bee5b86849818269dffd6094bad7",
            "81bf3defc861410c8414e953413729ba",
            "128ddf9f994a4fd29b0cd0b43dd27ecf",
            "2fc7dce850e14b9fbe1f7b3ba90489bd",
            "04c3a196193c4515a8d1d7c4f394ce8e",
            "2f2d8feb3a4b4420847c1fa5d4b2778f",
            "d958bc2439c848cb808f7253db572c8c"
          ]
        },
        "id": "gklRd1mX862B",
        "outputId": "b6cac4af-a277-44db-ec4c-09d4af13e023"
      },
      "outputs": [
        {
          "data": {
            "application/vnd.jupyter.widget-view+json": {
              "model_id": "8eeba7bc0c8b4b2aab1b24e2f9b76bfb",
              "version_major": 2,
              "version_minor": 0
            },
            "text/plain": [
              "  0%|          | 0/750000.0 [00:00<?, ?it/s]"
            ]
          },
          "metadata": {},
          "output_type": "display_data"
        }
      ],
      "source": [
        "import MySQLdb\n",
        "import json\n",
        "import bz2\n",
        "from tqdm.notebook import tqdm\n",
        "\n",
        "db = MySQLdb.connect(host='localhost', user='root', db='db', charset='utf8mb4')\n",
        "cursor = db.cursor()\n",
        "\n",
        "cursor.execute('drop table if exists wiki_jp')\n",
        "cursor.execute('create table wiki_jp('\n",
        " 'id bigint unsigned not null auto_increment primary key,'\n",
        " 'title tinytext collate utf8mb4_unicode_ci storage memory,'\n",
        " 'body mediumtext collate utf8mb4_unicode_ci storage memory,'\n",
        " 'fulltext index (body)'\n",
        " ') engine = Mroonga default charset utf8')\n",
        "\n",
        "limit = 500000\n",
        "insert_wiki = 'insert into wiki_jp (title, body) values (%s, %s);'\n",
        "\n",
        "with bz2.open('/content/drive/MyDrive/wiki.json.bz2', 'rt', encoding='utf-8') as fin:\n",
        "    n = 0\n",
        "    for line in tqdm(fin, total=limit*1.5):\n",
        "        data = json.loads(line)\n",
        "        title = data['title'].strip()\n",
        "        body = data['text'].replace('\\n', '')\n",
        "        if len(title) > 0 and len(body) > 0:\n",
        "            cursor.execute(insert_wiki, (title, body))\n",
        "            n += 1\n",
        "        if n == limit:\n",
        "            break\n",
        "db.commit()\n",
        "db.close()"
      ]
    },
    {
      "cell_type": "markdown",
      "metadata": {
        "id": "7Yor736k4jLe"
      },
      "source": [
        "データが書き込まれたテーブルを確認します。"
      ]
    },
    {
      "cell_type": "code",
      "execution_count": 12,
      "metadata": {
        "colab": {
          "base_uri": "https://localhost:8080/"
        },
        "id": "SREBJUUU86wS",
        "outputId": "72cf6591-31ae-42cb-d338-8398b00ee3fe"
      },
      "outputs": [
        {
          "name": "stdout",
          "output_type": "stream",
          "text": [
            "Field\tType\tNull\tKey\tDefault\tExtra\n",
            "id\tbigint(20) unsigned\tNO\tPRI\tNULL\tauto_increment\n",
            "title\ttinytext\tYES\t\tNULL\t\n",
            "body\tmediumtext\tYES\tMUL\tNULL\t\n"
          ]
        }
      ],
      "source": [
        "!echo \"show columns from db.wiki_jp\" | mysql"
      ]
    },
    {
      "cell_type": "markdown",
      "metadata": {
        "id": "HAxW0ca-4pgo"
      },
      "source": [
        "登録件数を確認します。"
      ]
    },
    {
      "cell_type": "code",
      "execution_count": 13,
      "metadata": {
        "colab": {
          "base_uri": "https://localhost:8080/"
        },
        "id": "SSw58BlDAY67",
        "outputId": "545f6483-4595-435d-9e36-1ff02643f44e"
      },
      "outputs": [
        {
          "name": "stdout",
          "output_type": "stream",
          "text": [
            "count(*)\n",
            "500000\n"
          ]
        }
      ],
      "source": [
        "!echo \"select count(*) from db.wiki_jp\" | mysql"
      ]
    },
    {
      "cell_type": "markdown",
      "metadata": {
        "id": "60Alawpw438c"
      },
      "source": [
        "## インデックスを使わない検索"
      ]
    },
    {
      "cell_type": "markdown",
      "metadata": {
        "id": "FZZfCW7A5oSx"
      },
      "source": [
        "bodyに「日本語」を含むレコードの数を取得します。"
      ]
    },
    {
      "cell_type": "code",
      "execution_count": 24,
      "metadata": {
        "colab": {
          "base_uri": "https://localhost:8080/"
        },
        "id": "tWvGeQx85woj",
        "outputId": "b36060b7-11b2-4401-a177-3bbe43de3110"
      },
      "outputs": [
        {
          "name": "stdout",
          "output_type": "stream",
          "text": [
            "--------------\n",
            "select sql_no_cache count(*) from db.wiki_jp where body like '%日本語%'\n",
            "--------------\n",
            "\n",
            "+----------+\n",
            "| count(*) |\n",
            "+----------+\n",
            "|    17006 |\n",
            "+----------+\n",
            "1 row in set, 1 warning (7.84 sec)\n",
            "\n",
            "Bye\n",
            "CPU times: user 76.2 ms, sys: 13.7 ms, total: 89.8 ms\n",
            "Wall time: 7.96 s\n"
          ]
        }
      ],
      "source": [
        "%%time\n",
        "!echo \"select sql_no_cache count(*) from db.wiki_jp where body like '%日本語%'\" | mysql -vvv"
      ]
    },
    {
      "cell_type": "markdown",
      "metadata": {
        "id": "oXeRc8hE5hVB"
      },
      "source": [
        "bodyに「日本語」を含むレコードを取得します。"
      ]
    },
    {
      "cell_type": "code",
      "execution_count": 15,
      "metadata": {
        "colab": {
          "base_uri": "https://localhost:8080/"
        },
        "id": "ryCAeBlMAY2P",
        "outputId": "f62ad2e9-df43-4d8a-e63f-2b1052a78192"
      },
      "outputs": [
        {
          "name": "stdout",
          "output_type": "stream",
          "text": [
            "17006 rows in set, 1 warning (8.91 sec)\n",
            "CPU times: user 112 ms, sys: 18.5 ms, total: 130 ms\n",
            "Wall time: 12.7 s\n"
          ]
        }
      ],
      "source": [
        "%%time\n",
        "!echo \"select sql_no_cache * from db.wiki_jp where body like '%日本語%'\" | mysql -vvv | tail -3 | head -1"
      ]
    },
    {
      "cell_type": "markdown",
      "metadata": {
        "id": "RGq_xDf85NxO"
      },
      "source": [
        "2回目"
      ]
    },
    {
      "cell_type": "code",
      "execution_count": 16,
      "metadata": {
        "colab": {
          "base_uri": "https://localhost:8080/"
        },
        "id": "HpehMdF_5SHu",
        "outputId": "d4a377c7-385e-4d68-daac-d6f5d442fe33"
      },
      "outputs": [
        {
          "name": "stdout",
          "output_type": "stream",
          "text": [
            "17006 rows in set, 1 warning (8.83 sec)\n",
            "CPU times: user 119 ms, sys: 12.8 ms, total: 132 ms\n",
            "Wall time: 12.6 s\n"
          ]
        }
      ],
      "source": [
        "%%time\n",
        "!echo \"select sql_no_cache * from db.wiki_jp where body like '%日本語%'\" | mysql -vvv | tail -3 | head -1"
      ]
    },
    {
      "cell_type": "markdown",
      "metadata": {
        "id": "_L-W0PPM5Ik4"
      },
      "source": [
        "## インデックスを使った検索"
      ]
    },
    {
      "cell_type": "markdown",
      "metadata": {
        "id": "LVqeJ5xY6KWs"
      },
      "source": [
        "bodyに「日本語」を含むレコードの数を取得します。"
      ]
    },
    {
      "cell_type": "code",
      "execution_count": 23,
      "metadata": {
        "colab": {
          "base_uri": "https://localhost:8080/"
        },
        "id": "UDjPMF1t6Eni",
        "outputId": "0f9d11d2-67db-42f3-ef78-6b723686a1a5"
      },
      "outputs": [
        {
          "name": "stdout",
          "output_type": "stream",
          "text": [
            "--------------\n",
            "select sql_no_cache count(*) from db.wiki_jp where match (body) against ('日本語' in boolean mode)\n",
            "--------------\n",
            "\n",
            "+----------+\n",
            "| count(*) |\n",
            "+----------+\n",
            "|    17006 |\n",
            "+----------+\n",
            "1 row in set, 1 warning (0.08 sec)\n",
            "\n",
            "Bye\n",
            "CPU times: user 7.8 ms, sys: 3.96 ms, total: 11.8 ms\n",
            "Wall time: 118 ms\n"
          ]
        }
      ],
      "source": [
        "%%time\n",
        "!echo \"select sql_no_cache count(*) from db.wiki_jp where match (body) against ('日本語' in boolean mode)\" | mysql -vvv"
      ]
    },
    {
      "cell_type": "markdown",
      "metadata": {
        "id": "ZVc0dejkKtzc"
      },
      "source": [
        "MySQLが2.5秒、Groongaが0.3秒ですから、相当速いです。なんらかの並列検索が働いている感じです。\n"
      ]
    },
    {
      "cell_type": "markdown",
      "metadata": {
        "id": "PzSbSl5Q6OvY"
      },
      "source": [
        "bodyに「日本語」を含むレコードを取得します。"
      ]
    },
    {
      "cell_type": "code",
      "execution_count": 18,
      "metadata": {
        "colab": {
          "base_uri": "https://localhost:8080/"
        },
        "id": "muEfz7jDAYyM",
        "outputId": "795bc562-2ceb-4ffa-ae35-d69c1c60e141"
      },
      "outputs": [
        {
          "name": "stdout",
          "output_type": "stream",
          "text": [
            "17006 rows in set, 1 warning (1.17 sec)\n",
            "CPU times: user 57 ms, sys: 11 ms, total: 68 ms\n",
            "Wall time: 5.03 s\n"
          ]
        }
      ],
      "source": [
        "%%time\n",
        "!echo \"select sql_no_cache * from db.wiki_jp where match (body) against ('日本語' in boolean mode)\" | mysql -vvv | tail -3 | head -1"
      ]
    },
    {
      "cell_type": "markdown",
      "metadata": {
        "id": "qgJoahI-5-2V"
      },
      "source": [
        "2回目"
      ]
    },
    {
      "cell_type": "code",
      "execution_count": 19,
      "metadata": {
        "colab": {
          "base_uri": "https://localhost:8080/"
        },
        "id": "ELrNj18l58Ev",
        "outputId": "dae77832-669d-4b42-c4aa-fc471304ec58"
      },
      "outputs": [
        {
          "name": "stdout",
          "output_type": "stream",
          "text": [
            "17006 rows in set, 1 warning (1.17 sec)\n",
            "CPU times: user 47.5 ms, sys: 13.3 ms, total: 60.8 ms\n",
            "Wall time: 4.93 s\n"
          ]
        }
      ],
      "source": [
        "%%time\n",
        "!echo \"select sql_no_cache * from db.wiki_jp where match (body) against ('日本語' in boolean mode)\" | mysql -vvv | tail -3 | head -1"
      ]
    },
    {
      "cell_type": "markdown",
      "metadata": {
        "id": "TpDanSxiMDuf"
      },
      "source": [
        "MySQL単体では8秒程度でしたから、5秒で少し速くなっています。ただ、Groonga単体では2秒程度でした。"
      ]
    },
    {
      "cell_type": "markdown",
      "metadata": {
        "id": "wwiNbLDsNP84"
      },
      "source": [
        "参考として、idとtitleだけを取得してみます。"
      ]
    },
    {
      "cell_type": "code",
      "execution_count": 25,
      "metadata": {
        "colab": {
          "base_uri": "https://localhost:8080/"
        },
        "id": "Zkm8PliYNDhr",
        "outputId": "3e09cdba-a6de-481c-cd45-03c8f093c380"
      },
      "outputs": [
        {
          "name": "stdout",
          "output_type": "stream",
          "text": [
            "17006 rows in set, 1 warning (0.14 sec)\n",
            "CPU times: user 10.8 ms, sys: 7.1 ms, total: 17.9 ms\n",
            "Wall time: 219 ms\n"
          ]
        }
      ],
      "source": [
        "%%time\n",
        "!echo \"select sql_no_cache id title from db.wiki_jp where match (body) against ('日本語' in boolean mode)\" | mysql -vvv | tail -3 | head -1"
      ]
    },
    {
      "cell_type": "markdown",
      "metadata": {
        "id": "D45XhX8DNV_R"
      },
      "source": [
        "やはりbodyの読み込みの時間が大半を占めているようです。"
      ]
    },
    {
      "cell_type": "markdown",
      "metadata": {
        "id": "Jb3nrkKK6Rg8"
      },
      "source": [
        "## MySQLの停止"
      ]
    },
    {
      "cell_type": "code",
      "execution_count": 20,
      "metadata": {
        "colab": {
          "base_uri": "https://localhost:8080/"
        },
        "id": "xsetQHsN86em",
        "outputId": "e407622b-4209-4157-9069-239050f220d5"
      },
      "outputs": [
        {
          "name": "stdout",
          "output_type": "stream",
          "text": [
            " * Stopping MySQL database server mysqld\n",
            "   ...done.\n"
          ]
        }
      ],
      "source": [
        "!service mysql stop"
      ]
    }
  ],
  "metadata": {
    "colab": {
      "collapsed_sections": [
        "ontwwvVwWwmt"
      ],
      "name": "全文検索_Mroonga.ipynb",
      "provenance": []
    },
    "kernelspec": {
      "display_name": "Python 3",
      "name": "python3"
    },
    "language_info": {
      "name": "python"
    },
    "widgets": {
      "application/vnd.jupyter.widget-state+json": {
        "04c3a196193c4515a8d1d7c4f394ce8e": {
          "model_module": "@jupyter-widgets/base",
          "model_module_version": "1.2.0",
          "model_name": "LayoutModel",
          "state": {
            "_model_module": "@jupyter-widgets/base",
            "_model_module_version": "1.2.0",
            "_model_name": "LayoutModel",
            "_view_count": null,
            "_view_module": "@jupyter-widgets/base",
            "_view_module_version": "1.2.0",
            "_view_name": "LayoutView",
            "align_content": null,
            "align_items": null,
            "align_self": null,
            "border": null,
            "bottom": null,
            "display": null,
            "flex": null,
            "flex_flow": null,
            "grid_area": null,
            "grid_auto_columns": null,
            "grid_auto_flow": null,
            "grid_auto_rows": null,
            "grid_column": null,
            "grid_gap": null,
            "grid_row": null,
            "grid_template_areas": null,
            "grid_template_columns": null,
            "grid_template_rows": null,
            "height": null,
            "justify_content": null,
            "justify_items": null,
            "left": null,
            "margin": null,
            "max_height": null,
            "max_width": null,
            "min_height": null,
            "min_width": null,
            "object_fit": null,
            "object_position": null,
            "order": null,
            "overflow": null,
            "overflow_x": null,
            "overflow_y": null,
            "padding": null,
            "right": null,
            "top": null,
            "visibility": null,
            "width": null
          }
        },
        "0f77bee5b86849818269dffd6094bad7": {
          "model_module": "@jupyter-widgets/controls",
          "model_module_version": "1.5.0",
          "model_name": "HTMLModel",
          "state": {
            "_dom_classes": [],
            "_model_module": "@jupyter-widgets/controls",
            "_model_module_version": "1.5.0",
            "_model_name": "HTMLModel",
            "_view_count": null,
            "_view_module": "@jupyter-widgets/controls",
            "_view_module_version": "1.5.0",
            "_view_name": "HTMLView",
            "description": "",
            "description_tooltip": null,
            "layout": "IPY_MODEL_d958bc2439c848cb808f7253db572c8c",
            "placeholder": "​",
            "style": "IPY_MODEL_2f2d8feb3a4b4420847c1fa5d4b2778f",
            "value": " 779788/? [56:59&lt;00:00, 419.93it/s]"
          }
        },
        "128ddf9f994a4fd29b0cd0b43dd27ecf": {
          "model_module": "@jupyter-widgets/base",
          "model_module_version": "1.2.0",
          "model_name": "LayoutModel",
          "state": {
            "_model_module": "@jupyter-widgets/base",
            "_model_module_version": "1.2.0",
            "_model_name": "LayoutModel",
            "_view_count": null,
            "_view_module": "@jupyter-widgets/base",
            "_view_module_version": "1.2.0",
            "_view_name": "LayoutView",
            "align_content": null,
            "align_items": null,
            "align_self": null,
            "border": null,
            "bottom": null,
            "display": null,
            "flex": null,
            "flex_flow": null,
            "grid_area": null,
            "grid_auto_columns": null,
            "grid_auto_flow": null,
            "grid_auto_rows": null,
            "grid_column": null,
            "grid_gap": null,
            "grid_row": null,
            "grid_template_areas": null,
            "grid_template_columns": null,
            "grid_template_rows": null,
            "height": null,
            "justify_content": null,
            "justify_items": null,
            "left": null,
            "margin": null,
            "max_height": null,
            "max_width": null,
            "min_height": null,
            "min_width": null,
            "object_fit": null,
            "object_position": null,
            "order": null,
            "overflow": null,
            "overflow_x": null,
            "overflow_y": null,
            "padding": null,
            "right": null,
            "top": null,
            "visibility": null,
            "width": null
          }
        },
        "2f2d8feb3a4b4420847c1fa5d4b2778f": {
          "model_module": "@jupyter-widgets/controls",
          "model_module_version": "1.5.0",
          "model_name": "DescriptionStyleModel",
          "state": {
            "_model_module": "@jupyter-widgets/controls",
            "_model_module_version": "1.5.0",
            "_model_name": "DescriptionStyleModel",
            "_view_count": null,
            "_view_module": "@jupyter-widgets/base",
            "_view_module_version": "1.2.0",
            "_view_name": "StyleView",
            "description_width": ""
          }
        },
        "2fc7dce850e14b9fbe1f7b3ba90489bd": {
          "model_module": "@jupyter-widgets/controls",
          "model_module_version": "1.5.0",
          "model_name": "ProgressStyleModel",
          "state": {
            "_model_module": "@jupyter-widgets/controls",
            "_model_module_version": "1.5.0",
            "_model_name": "ProgressStyleModel",
            "_view_count": null,
            "_view_module": "@jupyter-widgets/base",
            "_view_module_version": "1.2.0",
            "_view_name": "StyleView",
            "bar_color": null,
            "description_width": ""
          }
        },
        "50982e292b004ce08d730d2f9043eaf3": {
          "model_module": "@jupyter-widgets/controls",
          "model_module_version": "1.5.0",
          "model_name": "FloatProgressModel",
          "state": {
            "_dom_classes": [],
            "_model_module": "@jupyter-widgets/controls",
            "_model_module_version": "1.5.0",
            "_model_name": "FloatProgressModel",
            "_view_count": null,
            "_view_module": "@jupyter-widgets/controls",
            "_view_module_version": "1.5.0",
            "_view_name": "ProgressView",
            "bar_style": "danger",
            "description": "",
            "description_tooltip": null,
            "layout": "IPY_MODEL_04c3a196193c4515a8d1d7c4f394ce8e",
            "max": 750000,
            "min": 0,
            "orientation": "horizontal",
            "style": "IPY_MODEL_2fc7dce850e14b9fbe1f7b3ba90489bd",
            "value": 750000
          }
        },
        "6a5419a192194119ac17f4ec97fb3894": {
          "model_module": "@jupyter-widgets/base",
          "model_module_version": "1.2.0",
          "model_name": "LayoutModel",
          "state": {
            "_model_module": "@jupyter-widgets/base",
            "_model_module_version": "1.2.0",
            "_model_name": "LayoutModel",
            "_view_count": null,
            "_view_module": "@jupyter-widgets/base",
            "_view_module_version": "1.2.0",
            "_view_name": "LayoutView",
            "align_content": null,
            "align_items": null,
            "align_self": null,
            "border": null,
            "bottom": null,
            "display": null,
            "flex": null,
            "flex_flow": null,
            "grid_area": null,
            "grid_auto_columns": null,
            "grid_auto_flow": null,
            "grid_auto_rows": null,
            "grid_column": null,
            "grid_gap": null,
            "grid_row": null,
            "grid_template_areas": null,
            "grid_template_columns": null,
            "grid_template_rows": null,
            "height": null,
            "justify_content": null,
            "justify_items": null,
            "left": null,
            "margin": null,
            "max_height": null,
            "max_width": null,
            "min_height": null,
            "min_width": null,
            "object_fit": null,
            "object_position": null,
            "order": null,
            "overflow": null,
            "overflow_x": null,
            "overflow_y": null,
            "padding": null,
            "right": null,
            "top": null,
            "visibility": null,
            "width": null
          }
        },
        "6c5d1995675549e785136be925616365": {
          "model_module": "@jupyter-widgets/controls",
          "model_module_version": "1.5.0",
          "model_name": "HTMLModel",
          "state": {
            "_dom_classes": [],
            "_model_module": "@jupyter-widgets/controls",
            "_model_module_version": "1.5.0",
            "_model_name": "HTMLModel",
            "_view_count": null,
            "_view_module": "@jupyter-widgets/controls",
            "_view_module_version": "1.5.0",
            "_view_name": "HTMLView",
            "description": "",
            "description_tooltip": null,
            "layout": "IPY_MODEL_128ddf9f994a4fd29b0cd0b43dd27ecf",
            "placeholder": "​",
            "style": "IPY_MODEL_81bf3defc861410c8414e953413729ba",
            "value": ""
          }
        },
        "81bf3defc861410c8414e953413729ba": {
          "model_module": "@jupyter-widgets/controls",
          "model_module_version": "1.5.0",
          "model_name": "DescriptionStyleModel",
          "state": {
            "_model_module": "@jupyter-widgets/controls",
            "_model_module_version": "1.5.0",
            "_model_name": "DescriptionStyleModel",
            "_view_count": null,
            "_view_module": "@jupyter-widgets/base",
            "_view_module_version": "1.2.0",
            "_view_name": "StyleView",
            "description_width": ""
          }
        },
        "8eeba7bc0c8b4b2aab1b24e2f9b76bfb": {
          "model_module": "@jupyter-widgets/controls",
          "model_module_version": "1.5.0",
          "model_name": "HBoxModel",
          "state": {
            "_dom_classes": [],
            "_model_module": "@jupyter-widgets/controls",
            "_model_module_version": "1.5.0",
            "_model_name": "HBoxModel",
            "_view_count": null,
            "_view_module": "@jupyter-widgets/controls",
            "_view_module_version": "1.5.0",
            "_view_name": "HBoxView",
            "box_style": "",
            "children": [
              "IPY_MODEL_6c5d1995675549e785136be925616365",
              "IPY_MODEL_50982e292b004ce08d730d2f9043eaf3",
              "IPY_MODEL_0f77bee5b86849818269dffd6094bad7"
            ],
            "layout": "IPY_MODEL_6a5419a192194119ac17f4ec97fb3894"
          }
        },
        "d958bc2439c848cb808f7253db572c8c": {
          "model_module": "@jupyter-widgets/base",
          "model_module_version": "1.2.0",
          "model_name": "LayoutModel",
          "state": {
            "_model_module": "@jupyter-widgets/base",
            "_model_module_version": "1.2.0",
            "_model_name": "LayoutModel",
            "_view_count": null,
            "_view_module": "@jupyter-widgets/base",
            "_view_module_version": "1.2.0",
            "_view_name": "LayoutView",
            "align_content": null,
            "align_items": null,
            "align_self": null,
            "border": null,
            "bottom": null,
            "display": null,
            "flex": null,
            "flex_flow": null,
            "grid_area": null,
            "grid_auto_columns": null,
            "grid_auto_flow": null,
            "grid_auto_rows": null,
            "grid_column": null,
            "grid_gap": null,
            "grid_row": null,
            "grid_template_areas": null,
            "grid_template_columns": null,
            "grid_template_rows": null,
            "height": null,
            "justify_content": null,
            "justify_items": null,
            "left": null,
            "margin": null,
            "max_height": null,
            "max_width": null,
            "min_height": null,
            "min_width": null,
            "object_fit": null,
            "object_position": null,
            "order": null,
            "overflow": null,
            "overflow_x": null,
            "overflow_y": null,
            "padding": null,
            "right": null,
            "top": null,
            "visibility": null,
            "width": null
          }
        }
      }
    }
  },
  "nbformat": 4,
  "nbformat_minor": 0
}
